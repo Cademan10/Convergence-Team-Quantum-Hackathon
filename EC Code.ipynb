{
 "cells": [
  {
   "cell_type": "markdown",
   "metadata": {},
   "source": [
    "Let's implement Eigenvector Continuation (EC) via Quantum computing.  First things first, we must generate the state vectors associated with the ground states of our n sample points.  The specific problem we shall be looking at is for LiH, the same one shown in the Qiskit textbook.  Our goal will be to show the power of EC by taking our sample points for larger atomic distances, where the calculation is inherently easier, and display that this provides enough information to account for the complex behavior seen for smaller interatomic distances."
   ]
  },
  {
   "cell_type": "markdown",
   "metadata": {},
   "source": [
    "First, we feature the same problem solved entirely using VQE.  This will be used as reference for later."
   ]
  },
  {
   "cell_type": "code",
   "execution_count": 30,
   "metadata": {},
   "outputs": [],
   "source": [
    "from qiskit.aqua.algorithms import VQE, NumPyEigensolver\n",
    "import matplotlib.pyplot as plt\n",
    "import numpy as np\n",
    "import numpy.linalg as LA\n",
    "from qiskit.chemistry.components.variational_forms import UCCSD\n",
    "from qiskit.chemistry.components.initial_states import HartreeFock\n",
    "from qiskit.circuit.library import EfficientSU2\n",
    "from qiskit.aqua.components.optimizers import COBYLA, SPSA, SLSQP\n",
    "from qiskit.aqua.operators import Z2Symmetries\n",
    "from qiskit import IBMQ, BasicAer, Aer\n",
    "from qiskit.chemistry.drivers import PySCFDriver, UnitsType\n",
    "from qiskit.chemistry import FermionicOperator\n",
    "from qiskit import IBMQ\n",
    "from qiskit.aqua import QuantumInstance\n",
    "from qiskit.ignis.mitigation.measurement import CompleteMeasFitter\n",
    "from qiskit.providers.aer.noise import NoiseModel\n",
    "from qiskit import *\n",
    "import warnings\n",
    "warnings.filterwarnings(\"ignore\", category=DeprecationWarning) # this is to ignore the DeprecationWarnings that appear"
   ]
  },
  {
   "cell_type": "code",
   "execution_count": 2,
   "metadata": {},
   "outputs": [],
   "source": [
    "# This function allows us to extract the relevant qubit operator and info needed to run VQE\n",
    "\n",
    "def get_qubit_op(dist):\n",
    "    driver = PySCFDriver(atom=\"Li .0 .0 .0; H .0 .0 \" + str(dist), unit=UnitsType.ANGSTROM, \n",
    "                         charge=0, spin=0, basis='sto3g')\n",
    "    molecule = driver.run()\n",
    "    freeze_list = [0]\n",
    "    remove_list = [-3, -2]\n",
    "    repulsion_energy = molecule.nuclear_repulsion_energy\n",
    "    num_particles = molecule.num_alpha + molecule.num_beta\n",
    "    num_spin_orbitals = molecule.num_orbitals * 2\n",
    "    remove_list = [x % molecule.num_orbitals for x in remove_list]\n",
    "    freeze_list = [x % molecule.num_orbitals for x in freeze_list]\n",
    "    remove_list = [x - len(freeze_list) for x in remove_list]\n",
    "    remove_list += [x + molecule.num_orbitals - len(freeze_list)  for x in remove_list]\n",
    "    freeze_list += [x + molecule.num_orbitals for x in freeze_list]\n",
    "    ferOp = FermionicOperator(h1=molecule.one_body_integrals, h2=molecule.two_body_integrals)\n",
    "    ferOp, energy_shift = ferOp.fermion_mode_freezing(freeze_list)\n",
    "    num_spin_orbitals -= len(freeze_list)\n",
    "    num_particles -= len(freeze_list)\n",
    "    ferOp = ferOp.fermion_mode_elimination(remove_list)\n",
    "    num_spin_orbitals -= len(remove_list)\n",
    "    qubitOp = ferOp.mapping(map_type='parity', threshold=0.00000001)\n",
    "    qubitOp = Z2Symmetries.two_qubit_reduction(qubitOp, num_particles)\n",
    "    shift = energy_shift + repulsion_energy\n",
    "    return qubitOp, num_particles, num_spin_orbitals, shift"
   ]
  },
  {
   "cell_type": "code",
   "execution_count": 3,
   "metadata": {},
   "outputs": [],
   "source": [
    "# Next, lets go ahead and create a function to give us the VQE results for our sample points (where interatomic distance\n",
    "# is our parameter that we are varying)\n",
    "\n",
    "def VQE_run(dist):\n",
    "    \n",
    "    ## Preliminary Things\n",
    "    backend = BasicAer.get_backend('statevector_simulator')\n",
    "    optimizer = SLSQP(maxiter=5)\n",
    "    \n",
    "    ## Get qubitOp and other useful quantities\n",
    "    qubitOp, num_particles, num_spin_orbitals, shift = get_qubit_op(dist)\n",
    "    \n",
    "    ## Encode initial state and variational form\n",
    "    initial_state = HartreeFock(\n",
    "        num_spin_orbitals,\n",
    "        num_particles,\n",
    "        qubit_mapping='parity'\n",
    "    ) \n",
    "    var_form = UCCSD(\n",
    "        num_orbitals=num_spin_orbitals,\n",
    "        num_particles=num_particles,\n",
    "        initial_state=initial_state,\n",
    "        qubit_mapping='parity'\n",
    "    )\n",
    "    \n",
    "    ## Now run VQE to get groundstate eigenvalue and optimal parameters associated with the statevector\n",
    "    vqe = VQE(qubitOp, var_form, optimizer)\n",
    "    result = vqe.run(backend)\n",
    "    E0 = np.real(result['eigenvalue'] + shift)\n",
    "    params = result['optimal_point']\n",
    "    \n",
    "    return params, E0"
   ]
  },
  {
   "cell_type": "markdown",
   "metadata": {},
   "source": [
    "Next, we need code to orthonormalize our states using GSO.  The functions to do this are below."
   ]
  },
  {
   "cell_type": "code",
   "execution_count": 4,
   "metadata": {},
   "outputs": [],
   "source": [
    "# To proceed, we will need a function that converts to binary, potentially with additional zeros padded on the end\n",
    "def binary(num, dig):\n",
    "    # converts integer, num, to binary with a fixed number of digits, dig\n",
    "    \n",
    "    ret = str(bin(num))[2:] # generates number in binary\n",
    "    if len(ret) > dig:\n",
    "        print('This is an error, returning zeros by default')\n",
    "        ret = '0' * dig\n",
    "    else:\n",
    "        add_zeros = '0' * (dig - len(ret))\n",
    "        ret = add_zeros + ret\n",
    "    \n",
    "    return ret  "
   ]
  },
  {
   "cell_type": "code",
   "execution_count": 5,
   "metadata": {},
   "outputs": [],
   "source": [
    "# Next, lets create a function that creates a quantum circuit and determines its state vector.  By assumption, the \n",
    "# state vector is such that you achieve it by applying var_form to |0>.  The additional option passed to the function\n",
    "# must be either 'normal' or 'inverse', indicating whether var_form or its inverse should be used.\n",
    "\n",
    "def state_measure(state, params, var_form, shots, backend, opt):\n",
    "    \n",
    "    ## Preliminary Things\n",
    "    N = var_form.num_qubits # gives the number of qbits used by the variational form\n",
    "    qc = QuantumCircuit(N,N)\n",
    "    qc.initialize(state,list(np.arange(N)))\n",
    "    \n",
    "    ## Add on the relevant gate to transform the initial state\n",
    "    if opt == 'normal': # proceed in the forward direction\n",
    "        var_circ = var_form.construct_circuit(params)\n",
    "    elif opt == 'inverse': # proceed in the reverse direction\n",
    "        var_circ = var_form.construct_circuit(params)\n",
    "        var_circ = var_circ.inverse()\n",
    "    gate = var_circ.to_instruction()\n",
    "    qc.append(gate, list(np.arange(N)))\n",
    "    \n",
    "    ## Conduct the state measurement (NOTE: the code commented out is a first attempt at generalizing to an actual quantum comp)\n",
    "    #qc.measure(list(np.arange(N)),list(np.arange(N)))\n",
    "    job = execute(qc, backend)#, shots)\n",
    "    #counts = job.result().get_counts()\n",
    "    #new_state = np.zeros(2**N,dtype='complex')\n",
    "    #for k in range(2**N): # spans over numbers in standard basis\n",
    "     #   bin_num = binary(k,N)\n",
    "     #   new_state[k] = math.sqrt(counts.get(bin_num, 0)/shots)\n",
    "    \n",
    "    return job.result().get_statevector()"
   ]
  },
  {
   "cell_type": "code",
   "execution_count": 6,
   "metadata": {},
   "outputs": [],
   "source": [
    "def GSO(params, var_form):\n",
    "    # Takes in params, each row (N total) of which corresponds to a single state which we get by plugging the params of that \n",
    "    # row into the passed variational form and letting it act on |0>.\n",
    "    #\n",
    "    # Returns:\n",
    "    # - states: An array of N columns, each corresponding to the state of one of the orthonormalized qbits in the basis\n",
    "    #          which was described above.\n",
    "    \n",
    "    ## Preliminary Things\n",
    "    backend = Aer.get_backend('statevector_simulator') # backend to use for calculations\n",
    "    shots = 10000 # number of shots for each job\n",
    "    \n",
    "    ## Create states variable to store orthonormal qbit states\n",
    "    N = var_form.num_qubits # gives the number of qbits used by the variational form \n",
    "    n = len(params[:,0]) # total num of states\n",
    "    states = np.zeros((2**N,n),dtype='complex') # this will store final qbit states\n",
    "    \n",
    "    ## Get all state vectors before GSO\n",
    "    for i in range(n):\n",
    "        ket = np.zeros(2**N,dtype='complex')\n",
    "        ket[0] = 1\n",
    "        ket = ket.tolist()\n",
    "        states[:,i] = state_measure(ket, params[i,:], var_form, shots, backend, 'normal')\n",
    "    \n",
    "    ## Orthonormalize the vectors\n",
    "    for i in range(1,n): # this is the state to orthonormalize (omit state zero since it remains unchanged)\n",
    "        transformed_states = np.zeros((2**N,i+1),dtype='complex') # this will store the vectors in |i> = |0> basis\n",
    "        transformed_states[0,i] = 1 # the i-th column is simply |i> in this basis\n",
    "        new_state = np.zeros(2**N,dtype='complex') # this will store the orthonormal state\n",
    "        new_state += transformed_states[:,i] # add on the new state first\n",
    "        \n",
    "        ## Compute the new state\n",
    "        for j in range(i): # spans over the previous states\n",
    "            transformed_states[:,j] = state_measure(states[:,j].tolist(), params[i,:], var_form, shots, backend, 'inverse')\n",
    "            new_state -= np.conj(transformed_states[0,j])*transformed_states[:,j]\n",
    "            \n",
    "        ## Compute the norm of the new vector\n",
    "        #c0_vec = transformed_states[0,:i]\n",
    "        #t1 = np.real(1 - np.dot(np.conj(c0_vec),c0_vec))\n",
    "        #t2 = np.real(np.dot(np.conj(c0_vec)*c0_vec,1-np.conj(c0_vec)*c0_vec))\n",
    "        vec_norm = LA.norm(new_state)#math.sqrt(t1**2 + t2)\n",
    "        \n",
    "        ## Finalize the new state and update it into the array after transforming back to the original basis\n",
    "        new_state = new_state/vec_norm\n",
    "        states[:,i] = state_measure(new_state.tolist(), params[i,:], var_form, shots, backend, 'normal')\n",
    "        \n",
    "    return states "
   ]
  },
  {
   "cell_type": "markdown",
   "metadata": {},
   "source": [
    "The next step is to project the Hamiltonian onto the orthonormal subspace we just found.  To do this, we will need functions to compute the Hamiltonian for each distance we wish to use EC at.  The first function below will give us the Hamiltonian (with the energy shift accounted for by adding shift*IdentityMatrix, while the second takes in an orthonormal set of vectors and outputs the representation of the Hamiltonian in that subspace."
   ]
  },
  {
   "cell_type": "code",
   "execution_count": 7,
   "metadata": {},
   "outputs": [],
   "source": [
    "def Get_Hamiltonian(dist):\n",
    "    \n",
    "    ## Preliminary Things\n",
    "    optimizer = SLSQP(maxiter=5)\n",
    "    \n",
    "    ## Get qubitOp and other useful quantities\n",
    "    qubitOp, num_particles, num_spin_orbitals, shift = get_qubit_op(dist)\n",
    "    \n",
    "    ## Encode initial state and variational form\n",
    "    initial_state = HartreeFock(\n",
    "        num_spin_orbitals,\n",
    "        num_particles,\n",
    "        qubit_mapping='parity'\n",
    "    ) \n",
    "    var_form = UCCSD(\n",
    "        num_orbitals=num_spin_orbitals,\n",
    "        num_particles=num_particles,\n",
    "        initial_state=initial_state,\n",
    "        qubit_mapping='parity'\n",
    "    )\n",
    "    \n",
    "    ## Now set up VQE so that we can get the operator from it\n",
    "    vqe = VQE(qubitOp, var_form, optimizer)\n",
    "    H = vqe.operator.to_matrix() # Hamiltonian w/o energy shift\n",
    "    #H += shift*np.diag(np.ones(len(H[:,0])))\n",
    "    \n",
    "    return H"
   ]
  },
  {
   "cell_type": "code",
   "execution_count": 8,
   "metadata": {},
   "outputs": [],
   "source": [
    "def Project_Hamiltonian(states, dist):\n",
    "    \n",
    "    ## First, set up the shape of the Hamiltonian matrix\n",
    "    n = len(states[0,:]) # gives the number of states in our basis\n",
    "    H = np.zeros((n,n), dtype='complex') # this is where the Hamiltonian will go\n",
    "    \n",
    "    ## Now, lets compute the Hamiltonian in the standard qubit basis, call it H_stand\n",
    "    H_stand = Get_Hamiltonian(dist)\n",
    "    \n",
    "    ## To take advantage of the Hamiltonian being Hermitian, we compute the upper triangular elements first, add to them its\n",
    "    ## transpose conjugate, then finally add in the on diagonal elements, minimizing the number of calculations\n",
    "    for i in range(n): # the row\n",
    "        for j in range(i+1,n): # the column\n",
    "            H[i,j] = np.dot(np.conj(states[:,i]),np.dot(H_stand,states[:,j])) # computes <i|H|j>\n",
    "            \n",
    "    ## Add Hermitian conjugate of H to itself to fill in lower triangular elements\n",
    "    H += np.transpose(np.conj(H))\n",
    "    \n",
    "    ## Now compute on diagonal elements\n",
    "    for i in range(n):\n",
    "        H[i,i] = np.dot(np.conj(states[:,i]),np.dot(H_stand,states[:,i])) # computes <i|H|i>\n",
    "        \n",
    "    return H"
   ]
  },
  {
   "cell_type": "markdown",
   "metadata": {},
   "source": [
    "Finally, we must create a function that outputs the minimum eigenvalue of our matrix."
   ]
  },
  {
   "cell_type": "code",
   "execution_count": 9,
   "metadata": {},
   "outputs": [],
   "source": [
    "def Min_Eig(M):\n",
    "    \n",
    "    eig_values = LA.eigvalsh(M)\n",
    "    \n",
    "    return np.real(eig_values[0])"
   ]
  },
  {
   "cell_type": "markdown",
   "metadata": {},
   "source": [
    "Now that we have all the individual pieces put together, lets create a function to implement EC.  The code will take in the distance values to compute our sample points at, and will return both the ground state energies of the sample points, and another array of the ground state energies at the points we use EC at (as well as all of the associated distances).  We can then use this data to plot below, and compare with the exact solution using NumPyEigensolver."
   ]
  },
  {
   "cell_type": "code",
   "execution_count": 36,
   "metadata": {},
   "outputs": [],
   "source": [
    "def EC(distances):\n",
    "    \n",
    "    ## First, lets set up some variables to store the VQE solutions of our sample points\n",
    "    n = len(distances) # gives the total number of sample points\n",
    "    test_params, test_E0 = VQE_run(distances[0]) # call the first distance to figure out how many params our var_form has\n",
    "    num_params = len(test_params) # number of parameters our variational form takes\n",
    "    params = np.zeros((n,num_params)) # this will store the basis before orthonormalization\n",
    "    params[0,:] = test_params # we already found this, so put it into the array\n",
    "    sample_energy = np.zeros(n) # this will store sample point ground state energies\n",
    "    sample_energy[0] = test_E0 # we already found this, so plug it in\n",
    "    \n",
    "    ## Next, let's compute the solutions for the rest of our sample points\n",
    "    for i in range(1,n):\n",
    "        params[i,:], sample_energy[i] = VQE_run(distances[i])\n",
    "    \n",
    "    ## Now, we need our Variational Form before calling the GSO code\n",
    "    NA, num_particles, num_spin_orbitals, NA1 = get_qubit_op(1)\n",
    "    initial_state = HartreeFock(\n",
    "        num_spin_orbitals,\n",
    "        num_particles,\n",
    "        qubit_mapping='parity'\n",
    "    ) \n",
    "    var_form = UCCSD(\n",
    "        num_orbitals=num_spin_orbitals,\n",
    "        num_particles=num_particles,\n",
    "        initial_state=initial_state,\n",
    "        qubit_mapping='parity'\n",
    "    )\n",
    "    \n",
    "    ## At this point, we have all we need to use Gram-Schmidt to orthonormalize our vectors\n",
    "    states = GSO(params, var_form) # this is our orthonormal basis as column vectors\n",
    "    \n",
    "    ## Next, we set up the distances we wish to use EC at\n",
    "    EC_distances = np.linspace(0.5,4.0,100)\n",
    "    EC_energies = np.zeros(len(EC_distances))\n",
    "    \n",
    "    ## Now, we simply find the Hamiltonian for each distance, then compute its minimum eigenvalue, and we are done\n",
    "    for i in range(len(EC_distances)):\n",
    "        NA, NA1, NA2, shift = get_qubit_op(EC_distances[i]) # compute energy shift\n",
    "        H = Project_Hamiltonian(states, EC_distances[i])\n",
    "        EC_energies[i] = Min_Eig(H) + shift\n",
    "        \n",
    "    return sample_energy, EC_distances, EC_energies   "
   ]
  },
  {
   "cell_type": "markdown",
   "metadata": {},
   "source": [
    "Finally, let's run the code for LiH as we vary interatomic distance!"
   ]
  },
  {
   "cell_type": "code",
   "execution_count": 38,
   "metadata": {},
   "outputs": [],
   "source": [
    "# Let's compute the exact solution to compare EC to\n",
    "\n",
    "exact_distances = np.arange(0.5, 4.0, 0.1)\n",
    "exact_energies = []\n",
    "\n",
    "for dist in exact_distances:\n",
    "    qubitOp, num_particles, num_spin_orbitals, shift = get_qubit_op(dist)\n",
    "    result = NumPyEigensolver(qubitOp).run()\n",
    "    exact_energies.append(np.real(result.eigenvalues) + shift)"
   ]
  },
  {
   "cell_type": "code",
   "execution_count": null,
   "metadata": {},
   "outputs": [],
   "source": [
    "# Now, we compute the EC solutions\n",
    "\n",
    "s_min = 3.5 # min sample distance\n",
    "s_max = 4 # max sample distance\n",
    "N_s = 6 # number of points to sample at\n",
    "sample_distances = np.linspace(s_min, s_max, N_s) # distances to use for sample points\n",
    "\n",
    "sample_energy, EC_distances, EC_energies = EC(sample_distances)"
   ]
  },
  {
   "cell_type": "code",
   "execution_count": 53,
   "metadata": {},
   "outputs": [
    {
     "data": {
      "image/png": "[encoded data removed]",
      "text/plain": [
       "<Figure size 432x288 with 1 Axes>"
      ]
     },
     "metadata": {
      "needs_background": "light"
     },
     "output_type": "display_data"
    }
   ],
   "source": [
    "# Finally, we create a plot of everything all together\n",
    "\n",
    "fig = plt.figure(1)\n",
    "plt.figure(1)\n",
    "plt.plot(EC_distances,EC_energies,'r-',label = 'EC') # plot EC results\n",
    "plt.plot(exact_distances,exact_energies,'ko', label = 'Exact') # plot FD results\n",
    "plt.plot(sample_distances,sample_energy,'bs', label = str(N_s) + ' EC Sample Points') # plot sample point eigen energies\n",
    "plt.title('$E_{0}$ vs Atomic Distance for ' + str(N_s) + ' EC Sample Points Taken Between ' + str(s_min) + ' and ' + str(s_max))\n",
    "plt.xlabel('Atomic Distance (Angstrom)')\n",
    "plt.ylabel('$E_{0}$')\n",
    "plt.legend(loc = 'upper right', fontsize = 'medium')\n",
    "plt.show()"
   ]
  },
  {
   "cell_type": "code",
   "execution_count": 54,
   "metadata": {},
   "outputs": [],
   "source": [
    "fig.savefig('EC_' + str(N_s) + '_Points_Between_' + str(s_min) + '_and_' + str(s_max) + '.png',dpi=300)"
   ]
  },
  {
   "cell_type": "code",
   "execution_count": null,
   "metadata": {},
   "outputs": [],
   "source": []
  }
 ],
 "metadata": {
  "kernelspec": {
   "display_name": "Python 3",
   "language": "python",
   "name": "python3"
  },
  "language_info": {
   "codemirror_mode": {
    "name": "ipython",
    "version": 3
   },
   "file_extension": ".py",
   "mimetype": "text/x-python",
   "name": "python",
   "nbconvert_exporter": "python",
   "pygments_lexer": "ipython3",
   "version": "3.8.2"
  }
 },
 "nbformat": 4,
 "nbformat_minor": 4
}
